{
 "cells": [
  {
   "cell_type": "code",
   "execution_count": 8,
   "metadata": {},
   "outputs": [],
   "source": [
    "from scipy.stats import norm\n",
    "import matplotlib.pyplot as plt\n",
    "import numpy as np\n",
    "import matplotlib.pyplot as plt\n",
    "import pandas as pd\n",
    "import numpy as np"
   ]
  },
  {
   "cell_type": "code",
   "execution_count": 9,
   "metadata": {},
   "outputs": [],
   "source": [
    "def MC_predic_time_series(data, years, iterations, name, startYear, time_type, plot=False):\n",
    "    if time_type == 'bi-annual':\n",
    "        data = data.groupby(np.arange(len(data))//2).mean()\n",
    "    \n",
    "    log_change = np.log(1+data.pct_change())\n",
    "    log_change=log_change.replace([-np.inf,np.inf], np.nan).dropna()\n",
    "    if plot:\n",
    "        log_change.hist()\n",
    "        \n",
    "    u = log_change.mean() #Mean of the logarithmich chenge\n",
    "    var = log_change.var() #Variance of the logarithic chenge\n",
    "    drift = u - (0.5 * var) #drift / trend of the logarithmic chenge\n",
    "    stdev = log_change.std() #Standard deviation of the log chenge\n",
    "    t_intervals = years\n",
    "    pred_change = np.exp(drift + 2*stdev * norm.ppf(np.random.rand(t_intervals, iterations)))\n",
    "    \n",
    "    S0=data.iloc[-1]\n",
    "    pred_list = np.zeros_like(pred_change)\n",
    "    pred_list[0] = S0\n",
    "\n",
    "    for t in range(1, t_intervals):\n",
    "        pred_list[t] = pred_list[t - 1] * pred_change[t]\n",
    "\n",
    "    pred_list = pd.DataFrame(pred_list)\n",
    "    pred_list['Value'] = pred_list[0]\n",
    "    \n",
    "    ## Attach the original data for plotting:\n",
    "    if plot:\n",
    "        Value = data.values\n",
    "        Value = pd.DataFrame(Value)\n",
    "        monte_carlo_forecast = pd.concat([Value, pred_list])\n",
    "        monte_carlo = monte_carlo_forecast.iloc[:,:].values\n",
    "\n",
    "        year_list = np.arange(startYear,startYear+len(monte_carlo))\n",
    "        plt.figure(0)\n",
    "        plt.figure(figsize=(17,5))figsize=(17,5))\n",
    "\n",
    "        plt.plot(year_list, monte_carlo)\n",
    "        plt.title(name)\n",
    "        plt.xticks(year_list[::4])\n",
    "        plt.show()\n",
    "    \n",
    "    return pred_list\n"
   ]
  },
  {
   "cell_type": "code",
   "execution_count": 10,
   "metadata": {},
   "outputs": [],
   "source": [
    "def prep_energy_prices_prediction(url, name, col_name, startYear, time_type , plot=False):\n",
    "\n",
    "    price_data = pd.read_csv(url)\n",
    "    price_data=price_data.dropna().reset_index(drop=True)\n",
    "    \n",
    "    price_prediction = MC_predic_time_series(price_data[col_name], years = 30, iterations=10000,\n",
    "                                    name = name, startYear=startYear, time_type=time_type, plot=plot)  \n",
    "    return price_prediction\n",
    "\n",
    "def get_contract_price(df,time_laps):\n",
    "    return df.iloc[time_laps]\n",
    "\n",
    "def anual_energy_calculator(radiation_path, area, yeild, PR):\n",
    "    solar_df = pd.read_csv(path)\n",
    "    anual_radiation = sum(solar_df['days_in_month'].multiply(solar_df['Solar_Radiation']))\n",
    "    print('anual_radiation= ', anual_radiation)\n",
    "    #total solar panel area  for the project:\n",
    "    anual_energy = area*anual_radiation*yeild*PR\n",
    "    print('Energy= ', anual_energy, ' kW/anualy')\n",
    "    return anual_energy\n",
    "                         "
   ]
  },
  {
   "cell_type": "code",
   "execution_count": 72,
   "metadata": {},
   "outputs": [],
   "source": [
    "def loan_return_calculator(total_investment, equity_portion, interest_rate, grace_period = 12, interest_grace = 6,\n",
    "                       loan_period = 20, years = 30, yearly_payments =2 ):\n",
    "    periodic_loan_return = []\n",
    "    periodic_interes_return = []\n",
    "    loan = total_investment - total_investment*equity_portion\n",
    "    remaining_loan = loan\n",
    "    for i in np.arange(1, years*yearly_payments+1):\n",
    "        cur_loan_return = 0\n",
    "        cur_interes_return = 0 \n",
    "        if i<=loan_period*yearly_payments:\n",
    "            ## Calc interest returns:\n",
    "            if i>interest_grace/12*yearly_payments:\n",
    "                cur_interes_return= remaining_loan*interest_rate*(1/yearly_payments)\n",
    "            ## Calc loan return:\n",
    "            if i>grace_period/12*yearly_payments:          \n",
    "                cur_loan_return = loan/((loan_period-grace_period/12)*yearly_payments)\n",
    "            \n",
    "        remaining_loan = remaining_loan - cur_loan_return\n",
    "        periodic_loan_return.append(cur_loan_return)\n",
    "        periodic_interes_return.append(cur_interes_return)\n",
    "\n",
    "    annual_loan_return = np.array(periodic_loan_return).reshape(int(len(periodic_loan_return)/yearly_payments), yearly_payments).sum(axis=1)\n",
    "    annual_interes_return = np.array(periodic_interes_return).reshape(int(len(periodic_interes_return)/2), yearly_payments).sum(axis=1)\n",
    "    \n",
    "    return loan, annual_loan_return, annual_interes_return\n",
    "    \n",
    "   "
   ]
  },
  {
   "cell_type": "code",
   "execution_count": 11,
   "metadata": {},
   "outputs": [],
   "source": [
    "def annual_revenue(prices, anual_energy, degredation, yeild = 1000, years=30, contract='agreement', infaltion=0, \n",
    "                   capacity=49500):\n",
    "\n",
    "    #calculate capacity vector and prices matrix:\n",
    "    capacity_vec = np.append(capacity*yeild, np.ones(years-1))\n",
    "    price_mat = np.append(prices, np.ones((len(prices),years)))\n",
    "    price_mat = np.column_stack([prices.values, np.ones((len(prices),years-1))])\n",
    "    \n",
    "    for i in np.arange(1,years):\n",
    "        capacity_vec[i] = capacity_vec[i-1]-capacity_vec[i-1]*degredation\n",
    "        \n",
    "        if contract=='agreement':\n",
    "            price_mat[:,i] = price_mat[:,i-1]+price_mat[:,i-1]*infaltion\n",
    "        elif contract == 'open_market':\n",
    "            #TODO - Complete logic here\n",
    "            break\n",
    "                              \n",
    "    annual_revenue = price_mat*capacity_vec[:, np.newaxis].T\n",
    "    total_revenue = annual_revenue.sum(axis=1)\n",
    "    \n",
    "    plt.figure(1)\n",
    "    plt.hist(total_revenue)\n",
    "\n",
    "    return annual_revenue"
   ]
  },
  {
   "cell_type": "code",
   "execution_count": 79,
   "metadata": {},
   "outputs": [],
   "source": [
    "def cash_flow_calculator(revenue, cash_flow_data , initial_investment, equity_portion, interest_rate_range):\n",
    "    columns = ['Total Expenses',\n",
    "               'DSRA',\n",
    "               'Interest', \n",
    "               'Taxes', \n",
    "               'Delta Working Capital',\n",
    "               'Upfront Fee + Substitute Tax Capex'\n",
    "               ]\n",
    "    costs = cash_flow_data[columns].sum(axis=1)\n",
    "    loan_vec = []\n",
    "    annual_loan_return_mat = []\n",
    "    total__loan_return = []\n",
    "    annual_interes_return_mat = []\n",
    "    total__interes_return = [] \n",
    "    annual_cash_flow = []\n",
    "\n",
    "    interest_list = np.linspace(interest_rate_range[0],interest_rate_range[1], 5)\n",
    "    for interest_rate in interest_list:\n",
    "        loan, annual_loan_return, annual_interes_return = loan_return_calculator(initial_investment,\n",
    "                                                                             equity_portion, interest_rate)\n",
    "        \n",
    "        loan_vec.append(loan)\n",
    "        annual_loan_return_mat.append(annual_loan_return)\n",
    "        total__loan_return.append(sum(annual_loan_return))\n",
    "        annual_interes_return_mat.append(annual_interes_return)\n",
    "        total__interes_return.append(sum(annual_interes_return))\n",
    "        \n",
    "        #calculate cash flow\n",
    "        \n",
    "        costs = costs + annual_loan_return + annual_interes_return\n",
    "        costs = costs.T\n",
    "        annual_cash_flow.append(revenue-costs.values)\n",
    "    \n",
    "    df = pd.DataFrame( {'interest_list':interest_list, \n",
    "                        'total__loan_return': total__loan_return, \n",
    "                        'total__interes_return':total__interes_return,\n",
    "                        'loan_val':loan_vec}, index=interest_list)\n",
    "    \n",
    "    axes = df[['total__loan_return', 'total__interes_return']].plot.bar(stacked=True)\n",
    "    axes.legend(loc=2) \n",
    "    \n",
    "    return annual_cash_flow\n",
    " "
   ]
  },
  {
   "cell_type": "code",
   "execution_count": 130,
   "metadata": {},
   "outputs": [],
   "source": [
    "\n",
    "def payback_calculator(vec,initial_investment):\n",
    "    cum_cashflow = np.cumsum(vec)\n",
    "    \n",
    "    if np.any(cum_cashflow>0):\n",
    "        final_full_year = np.max(np.where(cum_cashflow<=0))\n",
    "        fraction_year=0\n",
    "\n",
    "        if final_full_year<len(cum_cashflow)-1:\n",
    "            fraction_year = -cum_cashflow[final_full_year]/cum_cashflow[final_full_year+1]\n",
    "\n",
    "        payback_period = final_full_year+fraction_year\n",
    "        return payback_period\n",
    "    else:\n",
    "        #TODO: Decide what to do without payback\n",
    "        return\n",
    "\n"
   ]
  },
  {
   "cell_type": "code",
   "execution_count": 139,
   "metadata": {},
   "outputs": [],
   "source": [
    "def irr_calculator(initial_investment, cash_flow_vec, cost_of_capital):\n",
    "    irr_vec = []\n",
    "    npv_vec = []\n",
    "    payback_vec = []\n",
    "    no_payback_count = 0\n",
    "    for cash_flow in cash_flow_vec:\n",
    "        for year in cash_flow:\n",
    "            vec = np.append(-initial_investment,year)\n",
    "            irr = np.irr(vec)\n",
    "            irr_vec.append(irr)\n",
    "            npv_vec.append(np.npv(cost_of_capital, np.append(-initial_investment,year)))\n",
    "            ##payback calculation\n",
    "            payback = payback_calculator(vec,initial_investment)\n",
    "            if payback:\n",
    "                payback_vec.append(payback)\n",
    "            else: no_payback_count = no_payback_count + 1\n",
    "            \n",
    "    # Plot histogram of IRR\n",
    "    plt.figure(3)\n",
    "    plt.hist(irr_vec, bins=100)\n",
    "    plt.axvline(x=0.05, color='k')\n",
    "    plt.xlim((-1,8))\n",
    "    plt.title(\"IRR histogram\")\n",
    "    print(\"mean IRR :\", np.mean(irr_vec))\n",
    "    \n",
    "    #Plot histogram of NPV\n",
    "    plt.figure(4)\n",
    "    plt.hist(npv_vec, bins=100)\n",
    "    plt.axvline(x=np.mean(npv_vec), color='g')\n",
    "    print(\"mean npv :\", np.mean(npv_vec))\n",
    "    plt.xlim((-5.65026351e+04,0.4e+10))\n",
    "    plt.title(\"NPV histogram\")\n",
    "    \n",
    "    # Plot histogram of Payback\n",
    "    plt.figure(5)\n",
    "    plt.hist(payback_vec, bins=100)\n",
    "#     plt.axvline(x=0.05, color='k')\n",
    "    plt.title(\"Payback histogram\")\n",
    "    print(\"mean payback :\", np.mean(payback_vec))\n",
    "    print('no_payback_portion: ', no_payback_count/len(irr_vec))\n",
    "    \n",
    "    \n",
    "    return irr_vec, npv_vec, payback_vec"
   ]
  },
  {
   "cell_type": "code",
   "execution_count": 140,
   "metadata": {},
   "outputs": [
    {
     "name": "stdout",
     "output_type": "stream",
     "text": [
      "mean IRR : nan\n",
      "mean npv : 225357255.77527076\n",
      "mean payback : 14.157735091302019\n",
      "no_payback_portion:  0.29627037296270375\n",
      "voltality:  142821806785.83694\n",
      "prob_lower_then_threshold:  0.3609239076092391\n"
     ]
    },
    {
     "data": {
      "image/png": "[encoded data removed]",
      "text/plain": [
       "<Figure size 432x288 with 1 Axes>"
      ]
     },
     "metadata": {
      "needs_background": "light"
     },
     "output_type": "display_data"
    },
    {
     "data": {
      "image/png": "[encoded data removed]",
      "text/plain": [
       "<Figure size 432x288 with 1 Axes>"
      ]
     },
     "metadata": {
      "needs_background": "light"
     },
     "output_type": "display_data"
    },
    {
     "data": {
      "image/png": "[encoded data removed]",
      "text/plain": [
       "<Figure size 432x288 with 1 Axes>"
      ]
     },
     "metadata": {
      "needs_background": "light"
     },
     "output_type": "display_data"
    },
    {
     "data": {
      "image/png": "[encoded data removed]",
      "text/plain": [
       "<Figure size 432x288 with 1 Axes>"
      ]
     },
     "metadata": {
      "needs_background": "light"
     },
     "output_type": "display_data"
    },
    {
     "data": {
      "image/png": "[encoded data removed]",
      "text/plain": [
       "<Figure size 432x288 with 1 Axes>"
      ]
     },
     "metadata": {
      "needs_background": "light"
     },
     "output_type": "display_data"
    }
   ],
   "source": [
    "## main procedure\n",
    "\n",
    "price_prediction_household = prep_energy_prices_prediction(\n",
    "                                r'C:\\Users\\Yair\\Documents\\Green Ensis\\Data\\energy_prices_italy_households.csv', \n",
    "                                name='Energy Prices for household Costumers', col_name='Value',startYear=2010 ,\n",
    "                                time_type='bi-annual', plot=False)\n",
    "\n",
    "price_prediction_non_household = prep_energy_prices_prediction(\n",
    "                                r'C:\\Users\\Yair\\Documents\\Green Ensis\\Data\\energy_prices_italy.csv', \n",
    "                                name='Energy Prices for non-household Costumers', col_name='Value',startYear=2010 ,\n",
    "                                time_type='bi-annual', plot=False)\n",
    "\n",
    "FeedInTarif_prediction = prep_energy_prices_prediction(\n",
    "                                r'C:\\Users\\Yair\\Documents\\Green Ensis\\Data\\FeedInTarrifItaly.csv', \n",
    "                                name='Feed-in Tariff prediction for solar PV Italy', col_name='Value', startYear=2005,\n",
    "                                time_type='annual', plot=False)\n",
    "\n",
    "houshold_cotract_price_vec = get_contract_price(price_prediction_household, time_laps=4)\n",
    "non_houshold_cotract_price_vec = get_contract_price(price_prediction_non_household, time_laps=4)\n",
    "FeedInTariff_cotract_price_vec = get_contract_price(FeedInTarif_prediction, time_laps=5)\n",
    "\n",
    "# Area = 20000\n",
    "# yeild = 18.5/100\n",
    "# PR = 0.75\n",
    "# path = r'C:\\Users\\Yair\\Documents\\Green Ensis\\Data\\solar_radiation_Italy.csv'\n",
    "# anual_energy = anual_energy_calculator(path, Area, yeild, PR)\n",
    "# curve_info = IV_curve_calculator()\n",
    "annual_revenue_MC = annual_revenue(FeedInTariff_cotract_price_vec, anual_energy=49500, degredation=0.025, infaltion=0)\n",
    "cash_flow_data = pd.read_csv(r'C:\\Users\\Yair\\Documents\\Green Ensis\\Data\\cash_flow_data.csv')\n",
    "\n",
    "initial_investment= 30937500\n",
    "equity_portion = 0.2\n",
    "interest_rate_range = [0.01,0.015]\n",
    "levered_equity_cash_flows_post_tax = cash_flow_calculator(annual_revenue_MC, cash_flow_data, \n",
    "                                                          initial_investment, equity_portion, interest_rate_range)\n",
    "\n",
    "\n",
    "\n",
    "irr_vec, npv_vec, payback_vec = irr_calculator(initial_investment, levered_equity_cash_flows_post_tax, cost_of_capital = 0.015)\n",
    "voltality = np.std(npv_vec)*np.sqrt(len(npv_vec))\n",
    "print('voltality: ', voltality)\n",
    "\n",
    "treshold = 0.05\n",
    "prob_lower_then_threshold = sum(irr<0.05 for irr in irr_vec)/len(irr_vec)\n",
    "print('prob_lower_then_threshold: ', prob_lower_then_threshold)\n",
    "\n",
    "\n"
   ]
  },
  {
   "cell_type": "code",
   "execution_count": 16,
   "metadata": {},
   "outputs": [
    {
     "name": "stdout",
     "output_type": "stream",
     "text": [
      "prob_lower_then_threshold:  0.20727927207279273\n"
     ]
    }
   ],
   "source": [
    "## Calculate probability under minimun rate of atractiveness\n",
    "treshold = 0.05\n",
    "prob_lower_then_threshold = sum(irr<0.05 for irr in irr_vec)/len(irr_vec)\n",
    "print('prob_lower_then_threshold: ', prob_lower_then_threshold)"
   ]
  },
  {
   "cell_type": "code",
   "execution_count": 17,
   "metadata": {},
   "outputs": [
    {
     "data": {
      "text/plain": [
       "Text(0.5, 1.0, 'IRR histogram')"
      ]
     },
     "execution_count": 17,
     "metadata": {},
     "output_type": "execute_result"
    },
    {
     "data": {
      "image/png": "[encoded data removed]",
      "text/plain": [
       "<Figure size 432x288 with 1 Axes>"
      ]
     },
     "metadata": {
      "needs_background": "light"
     },
     "output_type": "display_data"
    }
   ],
   "source": [
    "# Plot histogram of IRR\n",
    "plt.hist(irr_vec, bins=100)\n",
    "plt.axvline(x=0.05, color='k')\n",
    "plt.xlim((-1,8))\n",
    "plt.title(\"IRR histogram\")"
   ]
  },
  {
   "cell_type": "code",
   "execution_count": 18,
   "metadata": {},
   "outputs": [
    {
     "name": "stdout",
     "output_type": "stream",
     "text": [
      "mean npv : 268814813.1010881\n"
     ]
    },
    {
     "data": {
      "text/plain": [
       "Text(0.5, 1.0, 'NPV histogram')"
      ]
     },
     "execution_count": 18,
     "metadata": {},
     "output_type": "execute_result"
    },
    {
     "data": {
      "image/png": "[encoded data removed]",
      "text/plain": [
       "<Figure size 432x288 with 1 Axes>"
      ]
     },
     "metadata": {
      "needs_background": "light"
     },
     "output_type": "display_data"
    }
   ],
   "source": [
    "#Plot histogram of NPV\n",
    "plt.hist(npv_vec, bins=100)\n",
    "plt.axvline(x=np.mean(npv_vec), color='g')\n",
    "print(\"mean npv :\", np.mean(npv_vec))\n",
    "plt.xlim((-5.65026351e+04,0.4e+10))\n",
    "plt.title(\"NPV histogram\")"
   ]
  },
  {
   "cell_type": "code",
   "execution_count": null,
   "metadata": {},
   "outputs": [],
   "source": []
  },
  {
   "cell_type": "code",
   "execution_count": null,
   "metadata": {},
   "outputs": [],
   "source": []
  },
  {
   "cell_type": "code",
   "execution_count": 13,
   "metadata": {},
   "outputs": [],
   "source": [
    "from pvlib import pvsystem\n",
    "# Example module parameters for the Canadian Solar CS5P-220M:\n",
    "def IV_curve_calculator():\n",
    "    parameters = {\n",
    "        'Name': 'Canadian Solar CS6K- 300',\n",
    "        'BIPV': 'N',\n",
    "        'Date': '1/1/2020',\n",
    "        'T_NOCT': 42.4,\n",
    "        'A_c': 1.7,\n",
    "        'N_s': 96,\n",
    "        'I_sc_ref': 9.99,\n",
    "        'V_oc_ref': 40.1,\n",
    "        'I_mp_ref': 4.69,\n",
    "        'V_mp_ref': 46.9,\n",
    "        'alpha_sc': 0.05,\n",
    "        'beta_oc':-0.39,\n",
    "        'a_ref': 2.6373,\n",
    "        'I_L_ref': 5.114,\n",
    "        'I_o_ref': 8.196e-10,\n",
    "        'R_s': 1.065,\n",
    "        'R_sh_ref': 381.68,\n",
    "        'Adjust': 8.7,\n",
    "        'gamma_r': -0.29,\n",
    "        'Version': 'MM106',\n",
    "        'PTC': 200.1,\n",
    "        'Technology': 'Mono-c-Si'\n",
    "    }\n",
    "\n",
    "    cases = [\n",
    "        (1000, 55)\n",
    "        ]\n",
    "\n",
    "    conditions = pd.DataFrame(cases, columns=['Geff', 'Tcell'])\n",
    "\n",
    "    # adjust the reference parameters according to the operating\n",
    "    # conditions using the De Soto model:\n",
    "    IL, I0, Rs, Rsh, nNsVth = pvsystem.calcparams_desoto(\n",
    "        conditions['Geff'],\n",
    "        conditions['Tcell'],\n",
    "        alpha_sc=parameters['alpha_sc'],\n",
    "        a_ref=parameters['a_ref'],\n",
    "        I_L_ref=parameters['I_L_ref'],\n",
    "        I_o_ref=parameters['I_o_ref'],\n",
    "        R_sh_ref=parameters['R_sh_ref'],\n",
    "        R_s=parameters['R_s'],\n",
    "        EgRef=1.121,\n",
    "        dEgdT=-0.0002677\n",
    "    )\n",
    "\n",
    "    # plug the parameters into the SDE and solve for IV curves:\n",
    "    curve_info = pvsystem.singlediode(\n",
    "        photocurrent=IL,\n",
    "        saturation_current=I0,\n",
    "        resistance_series=Rs,\n",
    "        resistance_shunt=Rsh,\n",
    "        nNsVth=nNsVth,\n",
    "        ivcurve_pnts=100,\n",
    "        method='lambertw'\n",
    "    )\n",
    "    \n",
    "    # plot the calculated curves:\n",
    "    plt.figure()\n",
    "    for i, case in conditions.iterrows():\n",
    "        label = (\n",
    "            \"$G_{eff}$ \" + f\"{case['Geff']} $W/m^2$\\n\"\n",
    "            \"$T_{cell}$ \" + f\"{case['Tcell']} $C$\"\n",
    "        )\n",
    "    plt.plot(curve_info['v'][i], curve_info['i'][i], label=label)\n",
    "    v_mp = curve_info['v_mp'][i]\n",
    "    i_mp = curve_info['i_mp'][i]\n",
    "    # mark the MPP\n",
    "    plt.plot([v_mp], [i_mp], ls='', marker='o', c='k')\n",
    "\n",
    "    plt.legend(loc=(1.0, 0))\n",
    "    plt.xlabel('Module voltage [V]')\n",
    "    plt.ylabel('Module current [A]')\n",
    "    plt.title(parameters['Name'])\n",
    "    plt.show()\n",
    "    plt.gcf().set_tight_layout(True)\n",
    "    \n",
    "    return curve_info"
   ]
  }
 ],
 "metadata": {
  "kernelspec": {
   "display_name": "Python 3",
   "language": "python",
   "name": "python3"
  },
  "language_info": {
   "codemirror_mode": {
    "name": "ipython",
    "version": 3
   },
   "file_extension": ".py",
   "mimetype": "text/x-python",
   "name": "python",
   "nbconvert_exporter": "python",
   "pygments_lexer": "ipython3",
   "version": "3.7.4"
  }
 },
 "nbformat": 4,
 "nbformat_minor": 2
}
